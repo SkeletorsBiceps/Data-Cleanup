{
 "cells": [
  {
   "cell_type": "markdown",
   "id": "direct-latter",
   "metadata": {},
   "source": [
    "# Cleaning - Overwatch League 2018 Player Statistics\n",
    "---\n",
    "Author: Max Tollefsen\n",
    "\n",
    "Data Source: https://overwatchleague.com/en-us/statslab\n",
    "\n",
    "### Overwatch and the Overwatch League\n",
    "\n",
    "Overwatch is a 6 vs 6 first-person class-based shooter video game with MOBA elements. The Overwatch League (OWL) is to Overwatch what the NFL is to American football. Every year, or season, there are (generally) four stages of matches and then the playoffs at the end of the season.\n",
    "\n",
    "### The Data\n",
    "\n",
    "The dataset is one I made by taking all the datasets found on the [Stats Lab page of the Overwatch League website](#https://overwatchleague.com/en-us/statslab) and combining them in SQLite. It includes all player statistics from OWL matches in the 2018 season, OWL's inaugural year.\n",
    "\n",
    "It has 10 variables (columns):\n",
    "- `start_time` - The date and time that the match began.\n",
    "- `match_id` - Unique ID of the match.\n",
    "- `stage` - What stage in the Overwatch League season it is. \n",
    "- `map_type` - The game mode the match was played on (this can be Assault, Control, Hybrid, or Payload).\n",
    "- `map_name` - Name of the map the match was played on.\n",
    "- `player` - Name of the player.\n",
    "- `team` - Name of the team the player was on.\n",
    "- `stat_name` - Name of the statistic that was measured.\n",
    "- `hero` - Name of the hero that was played.\n",
    "- `stat_amount` - The measure of the stat_name.\n",
    "\n",
    "### Importing & Cleaning the Data\n",
    "\n",
    "First, I import some modules as well as my dataset from my SQLite database."
   ]
  },
  {
   "cell_type": "code",
   "execution_count": 1,
   "id": "conscious-leone",
   "metadata": {},
   "outputs": [
    {
     "name": "stdout",
     "output_type": "stream",
     "text": [
      "<class 'pandas.core.frame.DataFrame'>\n",
      "RangeIndex: 1124418 entries, 0 to 1124417\n",
      "Data columns (total 10 columns):\n",
      " #   Column       Non-Null Count    Dtype \n",
      "---  ------       --------------    ----- \n",
      " 0   start_time   1124418 non-null  object\n",
      " 1   match_id     1124418 non-null  object\n",
      " 2   stage        1124418 non-null  object\n",
      " 3   map_type     1124418 non-null  object\n",
      " 4   map_name     1124418 non-null  object\n",
      " 5   player       1124418 non-null  object\n",
      " 6   team         1124418 non-null  object\n",
      " 7   stat_name    1124418 non-null  object\n",
      " 8   hero         1124418 non-null  object\n",
      " 9   stat_amount  1124418 non-null  object\n",
      "dtypes: object(10)\n",
      "memory usage: 85.8+ MB\n",
      "None\n",
      "\n"
     ]
    },
    {
     "data": {
      "text/html": [
       "<div>\n",
       "<style scoped>\n",
       "    .dataframe tbody tr th:only-of-type {\n",
       "        vertical-align: middle;\n",
       "    }\n",
       "\n",
       "    .dataframe tbody tr th {\n",
       "        vertical-align: top;\n",
       "    }\n",
       "\n",
       "    .dataframe thead th {\n",
       "        text-align: right;\n",
       "    }\n",
       "</style>\n",
       "<table border=\"1\" class=\"dataframe\">\n",
       "  <thead>\n",
       "    <tr style=\"text-align: right;\">\n",
       "      <th></th>\n",
       "      <th>start_time</th>\n",
       "      <th>match_id</th>\n",
       "      <th>stage</th>\n",
       "      <th>map_type</th>\n",
       "      <th>map_name</th>\n",
       "      <th>player</th>\n",
       "      <th>team</th>\n",
       "      <th>stat_name</th>\n",
       "      <th>hero</th>\n",
       "      <th>stat_amount</th>\n",
       "    </tr>\n",
       "  </thead>\n",
       "  <tbody>\n",
       "    <tr>\n",
       "      <th>0</th>\n",
       "      <td>01-11-18 00:12</td>\n",
       "      <td>10223</td>\n",
       "      <td>Overwatch League - Stage 1</td>\n",
       "      <td>PAYLOAD</td>\n",
       "      <td>Dorado</td>\n",
       "      <td>Agilities</td>\n",
       "      <td>Los Angeles Valiant</td>\n",
       "      <td>All Damage Done</td>\n",
       "      <td>All Heroes</td>\n",
       "      <td>18079.20692</td>\n",
       "    </tr>\n",
       "    <tr>\n",
       "      <th>1</th>\n",
       "      <td>01-11-18 00:12</td>\n",
       "      <td>10223</td>\n",
       "      <td>Overwatch League - Stage 1</td>\n",
       "      <td>PAYLOAD</td>\n",
       "      <td>Dorado</td>\n",
       "      <td>Agilities</td>\n",
       "      <td>Los Angeles Valiant</td>\n",
       "      <td>Assists</td>\n",
       "      <td>All Heroes</td>\n",
       "      <td>17</td>\n",
       "    </tr>\n",
       "    <tr>\n",
       "      <th>2</th>\n",
       "      <td>01-11-18 00:12</td>\n",
       "      <td>10223</td>\n",
       "      <td>Overwatch League - Stage 1</td>\n",
       "      <td>PAYLOAD</td>\n",
       "      <td>Dorado</td>\n",
       "      <td>Agilities</td>\n",
       "      <td>Los Angeles Valiant</td>\n",
       "      <td>Barrier Damage Done</td>\n",
       "      <td>All Heroes</td>\n",
       "      <td>2893.659185</td>\n",
       "    </tr>\n",
       "    <tr>\n",
       "      <th>3</th>\n",
       "      <td>01-11-18 00:12</td>\n",
       "      <td>10223</td>\n",
       "      <td>Overwatch League - Stage 1</td>\n",
       "      <td>PAYLOAD</td>\n",
       "      <td>Dorado</td>\n",
       "      <td>Agilities</td>\n",
       "      <td>Los Angeles Valiant</td>\n",
       "      <td>Damage - Quick Melee</td>\n",
       "      <td>All Heroes</td>\n",
       "      <td>443.20401</td>\n",
       "    </tr>\n",
       "    <tr>\n",
       "      <th>4</th>\n",
       "      <td>01-11-18 00:12</td>\n",
       "      <td>10223</td>\n",
       "      <td>Overwatch League - Stage 1</td>\n",
       "      <td>PAYLOAD</td>\n",
       "      <td>Dorado</td>\n",
       "      <td>Agilities</td>\n",
       "      <td>Los Angeles Valiant</td>\n",
       "      <td>Deaths</td>\n",
       "      <td>All Heroes</td>\n",
       "      <td>11</td>\n",
       "    </tr>\n",
       "  </tbody>\n",
       "</table>\n",
       "</div>"
      ],
      "text/plain": [
       "       start_time match_id                       stage map_type map_name  \\\n",
       "0  01-11-18 00:12    10223  Overwatch League - Stage 1  PAYLOAD   Dorado   \n",
       "1  01-11-18 00:12    10223  Overwatch League - Stage 1  PAYLOAD   Dorado   \n",
       "2  01-11-18 00:12    10223  Overwatch League - Stage 1  PAYLOAD   Dorado   \n",
       "3  01-11-18 00:12    10223  Overwatch League - Stage 1  PAYLOAD   Dorado   \n",
       "4  01-11-18 00:12    10223  Overwatch League - Stage 1  PAYLOAD   Dorado   \n",
       "\n",
       "      player                 team             stat_name        hero  \\\n",
       "0  Agilities  Los Angeles Valiant       All Damage Done  All Heroes   \n",
       "1  Agilities  Los Angeles Valiant               Assists  All Heroes   \n",
       "2  Agilities  Los Angeles Valiant   Barrier Damage Done  All Heroes   \n",
       "3  Agilities  Los Angeles Valiant  Damage - Quick Melee  All Heroes   \n",
       "4  Agilities  Los Angeles Valiant                Deaths  All Heroes   \n",
       "\n",
       "   stat_amount  \n",
       "0  18079.20692  \n",
       "1           17  \n",
       "2  2893.659185  \n",
       "3    443.20401  \n",
       "4           11  "
      ]
     },
     "execution_count": 1,
     "metadata": {},
     "output_type": "execute_result"
    }
   ],
   "source": [
    "import pandas as pd\n",
    "import sqlite3\n",
    "\n",
    "#   Imports 2018 matches from SQL\n",
    "database = r'C:\\Users\\Max\\Google Drive\\Data\\SQL Database\\Scrying Pool.db'\n",
    "conn = sqlite3.connect(database)\n",
    "\n",
    "OWL_2018 = pd.read_sql('select * from OWL_2018_Raw', con=conn)\n",
    "conn.close()\n",
    "\n",
    "#   Gives an overview of the data\n",
    "print(OWL_2018.info())\n",
    "print()\n",
    "OWL_2018.head()"
   ]
  },
  {
   "cell_type": "markdown",
   "id": "immediate-conditioning",
   "metadata": {},
   "source": [
    "There are no null values in our table which is good. Now I want to make some changes to the data so it is easier to handle for analysis.\n",
    "\n",
    "To save memory `stage`, `map_type`, `map_name`, `player`, `team`, `stat_name`, and `hero` can be converted to the categorical dtype. Before doing this Let's get an idea of how many unique values are in each of the columns."
   ]
  },
  {
   "cell_type": "code",
   "execution_count": 2,
   "id": "diverse-popularity",
   "metadata": {},
   "outputs": [
    {
     "data": {
      "text/plain": [
       "start_time       1109\n",
       "match_id          262\n",
       "stage               9\n",
       "map_type            4\n",
       "map_name           17\n",
       "player            129\n",
       "team               12\n",
       "stat_name         284\n",
       "hero               30\n",
       "stat_amount    455086\n",
       "dtype: int64"
      ]
     },
     "execution_count": 2,
     "metadata": {},
     "output_type": "execute_result"
    }
   ],
   "source": [
    "OWL_2018.nunique()"
   ]
  },
  {
   "cell_type": "markdown",
   "id": "funny-mention",
   "metadata": {},
   "source": [
    "`stage` is interesting because there are only five stages in a season (stages 1 through 4 and the playoffs). So why does it have nine unique values? I'll come back to this after handling the other columns.\n",
    "\n",
    "`map_type`, `map_name`, `team`, and `hero` make sense to make categorical data. There are a low number of values each variable can take on and it’s reasonable to assume the number of values they can take on in the future won't increase by a lot in a short amount of time (e.g. I don't expect a release of 12 heroes over three months, or for 35 new teams to join the league in between seasons).\n",
    "\n",
    "`player` and `stat_name` have enough unique values that I'm hesitant to make them categorical data. Players can fluctuate some as old players leave and new talent joins the league. `stat_name` won't fluctuate as much since it's almost exclusively tied to the number of heroes in the game (a new hero can mean around 10 new stats being added that are unique to that hero) but at 284 unique values I'm not sure how much memory is saved so I'll do a side-by-side comparison of the two dtypes."
   ]
  },
  {
   "cell_type": "code",
   "execution_count": 3,
   "id": "historical-array",
   "metadata": {},
   "outputs": [
    {
     "name": "stdout",
     "output_type": "stream",
     "text": [
      "object type:   82.833791 MB\n",
      "category type:  2.278881 MB\n"
     ]
    }
   ],
   "source": [
    "#    Converts the list of columns to categorical data\n",
    "for col in ['map_type', 'map_name', 'team', 'hero']:\n",
    "    OWL_2018[col] = OWL_2018[col].astype('category')\n",
    "\n",
    "#   Creates a series for stat_name where it is the categorical dtype\n",
    "stat_name_cat = OWL_2018.stat_name.astype('category')\n",
    "\n",
    "#   Compares the memory usage of stat_name if it were an object or category dtype in megabytes\n",
    "print( 'object type:   ' + str( OWL_2018.stat_name.memory_usage(deep=True)/1000000 )  + ' MB'  )\n",
    "print( 'category type:  ' + str( stat_name_cat.memory_usage(deep=True)/1000000 ) + ' MB')"
   ]
  },
  {
   "cell_type": "markdown",
   "id": "geographic-moral",
   "metadata": {},
   "source": [
    "This is a ~97% reduction in memory size! The reduction seems significant enough to convert `player` and `stat_name` to categorical data as well."
   ]
  },
  {
   "cell_type": "code",
   "execution_count": 4,
   "id": "persistent-worry",
   "metadata": {},
   "outputs": [],
   "source": [
    "#    Converting player and stat_name to categorical data\n",
    "for col in ['player', 'stat_name']:\n",
    "    OWL_2018[col] = OWL_2018[col].astype('category')"
   ]
  },
  {
   "cell_type": "markdown",
   "id": "planned-front",
   "metadata": {},
   "source": [
    "Now to revisit `stage`."
   ]
  },
  {
   "cell_type": "code",
   "execution_count": 5,
   "id": "statistical-powell",
   "metadata": {},
   "outputs": [
    {
     "data": {
      "text/plain": [
       "array(['Overwatch League - Stage 1',\n",
       "       'Overwatch League - Stage 1 - Title Matches',\n",
       "       'Overwatch League - Stage 2',\n",
       "       'Overwatch League - Stage 2 Title Matches',\n",
       "       'Overwatch League - Stage 3',\n",
       "       'Overwatch League - Stage 3 Title Matches',\n",
       "       'Overwatch League - Stage 4',\n",
       "       'Overwatch League - Stage 4 Title Matches',\n",
       "       'Overwatch League Inaugural Season Championship'], dtype=object)"
      ]
     },
     "execution_count": 5,
     "metadata": {},
     "output_type": "execute_result"
    }
   ],
   "source": [
    "#   Displays all unique values in stage\n",
    "OWL_2018.stage.unique()"
   ]
  },
  {
   "cell_type": "markdown",
   "id": "adjustable-polish",
   "metadata": {},
   "source": [
    "It seems `stage` indicates the stage the match took place in as well as if it was a title match. That is why it has nine unique values despite there only being five stages. I want to clean up the data so it only indicates what stage the match was in but I also want to keep the information on whether it was a title match or not so I create and insert a dummy column called `title_match` that shows True if the match was a title match."
   ]
  },
  {
   "cell_type": "code",
   "execution_count": 6,
   "id": "german-composition",
   "metadata": {},
   "outputs": [],
   "source": [
    "#   Creating and inserting the title_match variable which indicates if the match is a title match or not\n",
    "titleMatchBoolean = OWL_2018.stage.str.contains('Title Matches')\n",
    "OWL_2018.insert(3, 'title_match', titleMatchBoolean)"
   ]
  },
  {
   "cell_type": "markdown",
   "id": "choice-intranet",
   "metadata": {},
   "source": [
    "Before making `stage` a category variable, I remove the portions of the data that don't provide any useful information and I add the year that the match took place. This is redundant information to add since all the matches in my dataset took place in 2018, but by adding the year I can distinguish stages from different seasons, which will be helpful if I were to ever add matches from a different season to this dataset."
   ]
  },
  {
   "cell_type": "code",
   "execution_count": 7,
   "id": "transparent-thumb",
   "metadata": {},
   "outputs": [
    {
     "data": {
      "text/plain": [
       "['2018 Stage 1', '2018 Stage 2', '2018 Stage 3', '2018 Stage 4', '2018 Playoffs']\n",
       "Categories (5, object): ['2018 Stage 1', '2018 Stage 2', '2018 Stage 3', '2018 Stage 4', '2018 Playoffs']"
      ]
     },
     "execution_count": 7,
     "metadata": {},
     "output_type": "execute_result"
    }
   ],
   "source": [
    "#  Removes unnecessary portions of the string in stage and adds the year the match took place\n",
    "OWL_2018.stage = OWL_2018.stage.str.replace('Overwatch League -', '2018')\n",
    "OWL_2018.stage = OWL_2018.stage.str.replace('Overwatch League Inaugural Season Championship', '2018 Playoffs')\n",
    "OWL_2018.stage = OWL_2018.stage.str.replace(' Title Matches', '')\n",
    "OWL_2018.stage = OWL_2018.stage.str.replace(' -', '')\n",
    "\n",
    "#   Converts stage to category dtype\n",
    "OWL_2018.stage = OWL_2018.stage.astype('category')\n",
    "\n",
    "OWL_2018.stage.unique()"
   ]
  },
  {
   "cell_type": "markdown",
   "id": "sexual-creek",
   "metadata": {},
   "source": [
    "Now I look to `start_time` which I want to convert to the datetime dtype. However, the dates in `start_time` are in two different formats. `01-11-18 00:12` and `1/27/2018 1:41` are examples of each format. Before I change the dtype I edit the column to have one consistent format throughout."
   ]
  },
  {
   "cell_type": "code",
   "execution_count": 8,
   "id": "charming-eleven",
   "metadata": {},
   "outputs": [
    {
     "name": "stdout",
     "output_type": "stream",
     "text": [
      "0    01-11-18 00:12\n",
      "1    01-11-18 00:12\n",
      "2    01-11-18 00:12\n",
      "Name: start_time, dtype: object\n",
      "\n",
      "128000    1/27/2018 1:41\n",
      "128001    1/27/2018 1:41\n",
      "128002    1/27/2018 1:41\n",
      "Name: start_time, dtype: object\n"
     ]
    }
   ],
   "source": [
    "#   Establishing three rows that have the first format and three rows that have the second format\n",
    "#   so I can check on them as I am editing\n",
    "print(OWL_2018.start_time.iloc[0:3])\n",
    "print()\n",
    "print(OWL_2018.start_time.iloc[128000:128003])"
   ]
  },
  {
   "cell_type": "markdown",
   "id": "stock-court",
   "metadata": {},
   "source": [
    "I start by replacing all instances of slashes '/' with dashes '-'. Then I create a function, `formatFix`, that ensures the day, month, and year fields of every date is two digits. Specifically, the function:\n",
    "\n",
    "1. Adds a leading '0' to the hour field where it is only one digit\n",
    "2. Adds a leading '0' to the month field where it is only one digit\n",
    "3. Removes the century portion of the year field from any dates that have it\n",
    "\n",
    "I apply this function to `start_time` before converting it to the datetime dtype."
   ]
  },
  {
   "cell_type": "code",
   "execution_count": 9,
   "id": "environmental-iceland",
   "metadata": {},
   "outputs": [
    {
     "name": "stdout",
     "output_type": "stream",
     "text": [
      "0   2018-01-11 00:12:00\n",
      "1   2018-01-11 00:12:00\n",
      "2   2018-01-11 00:12:00\n",
      "Name: start_time, dtype: datetime64[ns]\n",
      "\n",
      "128000   2018-01-27 01:41:00\n",
      "128001   2018-01-27 01:41:00\n",
      "128002   2018-01-27 01:41:00\n",
      "Name: start_time, dtype: datetime64[ns]\n"
     ]
    }
   ],
   "source": [
    "OWL_2018.start_time = OWL_2018.start_time.str.replace('/', '-')\n",
    "\n",
    "def formatFix(date: str) -> str:\n",
    "    #   makes sure all hours are double digit\n",
    "    if date[-5] == ' ':\n",
    "        date = date[:-4] + '0' + date[-4:]\n",
    "       \n",
    "    #   makes sure all months are double digit\n",
    "    if date[0] == '1' and date[1] == '-':\n",
    "        date = '0' + date\n",
    "        \n",
    "    #   removes the century from the year\n",
    "    if date[-10:-8] == '20':\n",
    "        date = date[:-10] + date[-8:]\n",
    "\n",
    "    return date\n",
    "\n",
    "#   Applying the above function to all dates\n",
    "OWL_2018.start_time = OWL_2018.start_time.apply(formatFix)\n",
    "\n",
    "#   Converting column to datetime\n",
    "OWL_2018.start_time = pd.to_datetime(OWL_2018.start_time, format='%m-%d-%y %H:%M')\n",
    "\n",
    "#   Checking back on the rows that I earmarked earlier\n",
    "print(OWL_2018.start_time.iloc[0:3])\n",
    "print()\n",
    "print(OWL_2018.start_time.iloc[128000:128003])"
   ]
  },
  {
   "cell_type": "markdown",
   "id": "handy-corrections",
   "metadata": {},
   "source": [
    "The last changes I make to this dataset; I apply the capitalize string method (changes strings so the first character is upper case, all other lower case) to `map_type`, convert `match_id` to integer, and convert `stat_amount` to floating point number. I also upload the now clean dataset into my SQL database."
   ]
  },
  {
   "cell_type": "code",
   "execution_count": 10,
   "id": "educated-fishing",
   "metadata": {
    "scrolled": false
   },
   "outputs": [
    {
     "name": "stdout",
     "output_type": "stream",
     "text": [
      "<class 'pandas.core.frame.DataFrame'>\n",
      "RangeIndex: 1124418 entries, 0 to 1124417\n",
      "Data columns (total 11 columns):\n",
      " #   Column       Non-Null Count    Dtype         \n",
      "---  ------       --------------    -----         \n",
      " 0   start_time   1124418 non-null  datetime64[ns]\n",
      " 1   match_id     1124418 non-null  int32         \n",
      " 2   stage        1124418 non-null  category      \n",
      " 3   title_match  1124418 non-null  bool          \n",
      " 4   map_type     1124418 non-null  category      \n",
      " 5   map_name     1124418 non-null  category      \n",
      " 6   player       1124418 non-null  category      \n",
      " 7   team         1124418 non-null  category      \n",
      " 8   stat_name    1124418 non-null  category      \n",
      " 9   hero         1124418 non-null  category      \n",
      " 10  stat_amount  1124418 non-null  float64       \n",
      "dtypes: bool(1), category(7), datetime64[ns](1), float64(1), int32(1)\n",
      "memory usage: 32.2 MB\n",
      "None\n",
      "\n"
     ]
    },
    {
     "data": {
      "text/html": [
       "<div>\n",
       "<style scoped>\n",
       "    .dataframe tbody tr th:only-of-type {\n",
       "        vertical-align: middle;\n",
       "    }\n",
       "\n",
       "    .dataframe tbody tr th {\n",
       "        vertical-align: top;\n",
       "    }\n",
       "\n",
       "    .dataframe thead th {\n",
       "        text-align: right;\n",
       "    }\n",
       "</style>\n",
       "<table border=\"1\" class=\"dataframe\">\n",
       "  <thead>\n",
       "    <tr style=\"text-align: right;\">\n",
       "      <th></th>\n",
       "      <th>start_time</th>\n",
       "      <th>match_id</th>\n",
       "      <th>stage</th>\n",
       "      <th>title_match</th>\n",
       "      <th>map_type</th>\n",
       "      <th>map_name</th>\n",
       "      <th>player</th>\n",
       "      <th>team</th>\n",
       "      <th>stat_name</th>\n",
       "      <th>hero</th>\n",
       "      <th>stat_amount</th>\n",
       "    </tr>\n",
       "  </thead>\n",
       "  <tbody>\n",
       "    <tr>\n",
       "      <th>0</th>\n",
       "      <td>2018-01-11 00:12:00</td>\n",
       "      <td>10223</td>\n",
       "      <td>2018 Stage 1</td>\n",
       "      <td>False</td>\n",
       "      <td>Payload</td>\n",
       "      <td>Dorado</td>\n",
       "      <td>Agilities</td>\n",
       "      <td>Los Angeles Valiant</td>\n",
       "      <td>All Damage Done</td>\n",
       "      <td>All Heroes</td>\n",
       "      <td>18079.206920</td>\n",
       "    </tr>\n",
       "    <tr>\n",
       "      <th>1</th>\n",
       "      <td>2018-01-11 00:12:00</td>\n",
       "      <td>10223</td>\n",
       "      <td>2018 Stage 1</td>\n",
       "      <td>False</td>\n",
       "      <td>Payload</td>\n",
       "      <td>Dorado</td>\n",
       "      <td>Agilities</td>\n",
       "      <td>Los Angeles Valiant</td>\n",
       "      <td>Assists</td>\n",
       "      <td>All Heroes</td>\n",
       "      <td>17.000000</td>\n",
       "    </tr>\n",
       "    <tr>\n",
       "      <th>2</th>\n",
       "      <td>2018-01-11 00:12:00</td>\n",
       "      <td>10223</td>\n",
       "      <td>2018 Stage 1</td>\n",
       "      <td>False</td>\n",
       "      <td>Payload</td>\n",
       "      <td>Dorado</td>\n",
       "      <td>Agilities</td>\n",
       "      <td>Los Angeles Valiant</td>\n",
       "      <td>Barrier Damage Done</td>\n",
       "      <td>All Heroes</td>\n",
       "      <td>2893.659185</td>\n",
       "    </tr>\n",
       "    <tr>\n",
       "      <th>3</th>\n",
       "      <td>2018-01-11 00:12:00</td>\n",
       "      <td>10223</td>\n",
       "      <td>2018 Stage 1</td>\n",
       "      <td>False</td>\n",
       "      <td>Payload</td>\n",
       "      <td>Dorado</td>\n",
       "      <td>Agilities</td>\n",
       "      <td>Los Angeles Valiant</td>\n",
       "      <td>Damage - Quick Melee</td>\n",
       "      <td>All Heroes</td>\n",
       "      <td>443.204010</td>\n",
       "    </tr>\n",
       "    <tr>\n",
       "      <th>4</th>\n",
       "      <td>2018-01-11 00:12:00</td>\n",
       "      <td>10223</td>\n",
       "      <td>2018 Stage 1</td>\n",
       "      <td>False</td>\n",
       "      <td>Payload</td>\n",
       "      <td>Dorado</td>\n",
       "      <td>Agilities</td>\n",
       "      <td>Los Angeles Valiant</td>\n",
       "      <td>Deaths</td>\n",
       "      <td>All Heroes</td>\n",
       "      <td>11.000000</td>\n",
       "    </tr>\n",
       "  </tbody>\n",
       "</table>\n",
       "</div>"
      ],
      "text/plain": [
       "           start_time  match_id         stage  title_match map_type map_name  \\\n",
       "0 2018-01-11 00:12:00     10223  2018 Stage 1        False  Payload   Dorado   \n",
       "1 2018-01-11 00:12:00     10223  2018 Stage 1        False  Payload   Dorado   \n",
       "2 2018-01-11 00:12:00     10223  2018 Stage 1        False  Payload   Dorado   \n",
       "3 2018-01-11 00:12:00     10223  2018 Stage 1        False  Payload   Dorado   \n",
       "4 2018-01-11 00:12:00     10223  2018 Stage 1        False  Payload   Dorado   \n",
       "\n",
       "      player                 team             stat_name        hero  \\\n",
       "0  Agilities  Los Angeles Valiant       All Damage Done  All Heroes   \n",
       "1  Agilities  Los Angeles Valiant               Assists  All Heroes   \n",
       "2  Agilities  Los Angeles Valiant   Barrier Damage Done  All Heroes   \n",
       "3  Agilities  Los Angeles Valiant  Damage - Quick Melee  All Heroes   \n",
       "4  Agilities  Los Angeles Valiant                Deaths  All Heroes   \n",
       "\n",
       "    stat_amount  \n",
       "0  18079.206920  \n",
       "1     17.000000  \n",
       "2   2893.659185  \n",
       "3    443.204010  \n",
       "4     11.000000  "
      ]
     },
     "execution_count": 10,
     "metadata": {},
     "output_type": "execute_result"
    }
   ],
   "source": [
    "#   This is an example of the different approach you have to take in order\n",
    "#   to maintain a column's category dtype. The first line is what\n",
    "#   you would normally type to apply a string method to a column.\n",
    "#   The second line is how to apply a string method to a column while\n",
    "#   maintaining its category dtype\n",
    "\n",
    "#OWL_2018.map_type = OWL_2018.map_type.str.capitalize()\n",
    "OWL_2018.map_type = OWL_2018.map_type.cat.rename_categories(str.capitalize)\n",
    "\n",
    "OWL_2018.match_id = OWL_2018.match_id.astype(int)\n",
    "OWL_2018.stat_amount = OWL_2018.stat_amount.astype(float)\n",
    "\n",
    "#   Uploads the current dataset to my SQL database,\n",
    "#   commented out as I've already uploaded a copy to my SQL database\n",
    "#conn = sqlite3.connect(database)\n",
    "#OWL_2018.to_sql(name=\"OWL_2018\", con=conn)\n",
    "#conn.close()\n",
    "\n",
    "#   A look at the dataset post cleanup\n",
    "print(OWL_2018.info())\n",
    "print()\n",
    "OWL_2018.head()"
   ]
  }
 ],
 "metadata": {
  "kernelspec": {
   "display_name": "Python 3",
   "language": "python",
   "name": "python3"
  },
  "language_info": {
   "codemirror_mode": {
    "name": "ipython",
    "version": 3
   },
   "file_extension": ".py",
   "mimetype": "text/x-python",
   "name": "python",
   "nbconvert_exporter": "python",
   "pygments_lexer": "ipython3",
   "version": "3.8.5"
  }
 },
 "nbformat": 4,
 "nbformat_minor": 5
}
